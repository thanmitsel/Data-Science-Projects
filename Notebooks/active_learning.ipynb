{
 "cells": [
  {
   "cell_type": "code",
   "execution_count": 60,
   "metadata": {},
   "outputs": [
    {
     "name": "stdout",
     "output_type": "stream",
     "text": [
      "          x         y  labels\n",
      "0 -0.141878 -0.646379       0\n",
      "1  0.659297 -0.438577       0\n",
      "2  0.312988 -0.344152       0\n",
      "3  0.316119  0.089825       0\n",
      "4  0.827818 -0.429285       0\n"
     ]
    }
   ],
   "source": [
    "import  pandas as pd\n",
    "import random\n",
    "import numpy as np\n",
    "import matplotlib.pyplot as plt\n",
    "from sklearn.model_selection import train_test_split\n",
    "\n",
    "def toy_data():\n",
    "    N = 400\n",
    "    mu = 0\n",
    "    sigma = 0.5 \n",
    "    x = np.random.normal(mu, sigma, N)\n",
    "    y = np.random.normal(mu, sigma, N)\n",
    "    df = pd.DataFrame({'x':x, 'y':y, 'labels':[0]*N})\n",
    "    df['labels'].loc[df['x'] + df['y']>0.5] = 1\n",
    "    Y = df['labels']\n",
    "    X = df.loc[:, ('x', 'y')]\n",
    "    return df, X, Y\n",
    "\n",
    "data, X, Y = toy_data()\n",
    "print(data.head())"
   ]
  },
  {
   "cell_type": "code",
   "execution_count": 108,
   "metadata": {},
   "outputs": [],
   "source": [
    "def split_train_test(X, Y):\n",
    "    perc = 0.30\n",
    "    X_train, X_test, Y_train, Y_test = train_test_split(X, Y, test_size = perc)\n",
    "    while ((sum(Y_test)/(sum(Y_test)+sum(Y_train))) < perc -5) & ((sum(Y_test)/(sum(Y_test)+sum(Y_train))) > perc +5):\n",
    "        X_train, X_test, Y_train, Y_test = train_test_split(X, Y, test_size=perc)\n",
    "    return X_train, X_test, Y_train, Y_test\n",
    "\n",
    "X_train, X_test, Y_train, Y_test = split_train_test(X, Y)"
   ]
  },
  {
   "cell_type": "code",
   "execution_count": 95,
   "metadata": {},
   "outputs": [
    {
     "data": {
      "text/plain": [
       "95"
      ]
     },
     "execution_count": 95,
     "metadata": {},
     "output_type": "execute_result"
    }
   ],
   "source": []
  },
  {
   "cell_type": "code",
   "execution_count": null,
   "metadata": {},
   "outputs": [],
   "source": []
  },
  {
   "cell_type": "code",
   "execution_count": null,
   "metadata": {},
   "outputs": [],
   "source": []
  }
 ],
 "metadata": {
  "kernelspec": {
   "display_name": "Python 3",
   "language": "python",
   "name": "python3"
  },
  "language_info": {
   "codemirror_mode": {
    "name": "ipython",
    "version": 3
   },
   "file_extension": ".py",
   "mimetype": "text/x-python",
   "name": "python",
   "nbconvert_exporter": "python",
   "pygments_lexer": "ipython3",
   "version": "3.6.1"
  }
 },
 "nbformat": 4,
 "nbformat_minor": 2
}
